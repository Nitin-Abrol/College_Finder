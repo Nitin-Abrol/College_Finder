{
  "nbformat": 4,
  "nbformat_minor": 0,
  "metadata": {
    "colab": {
      "name": "Project_1.ipynb",
      "provenance": [],
      "authorship_tag": "ABX9TyORId0vDpSLUd7d5TFsluOB",
      "include_colab_link": true
    },
    "kernelspec": {
      "name": "python3",
      "display_name": "Python 3"
    },
    "language_info": {
      "name": "python"
    }
  },
  "cells": [
    {
      "cell_type": "markdown",
      "metadata": {
        "id": "view-in-github",
        "colab_type": "text"
      },
      "source": [
        "<a href=\"https://colab.research.google.com/github/Nitin-Abrol/College_Finder/blob/main/Project_1.ipynb\" target=\"_parent\"><img src=\"https://colab.research.google.com/assets/colab-badge.svg\" alt=\"Open In Colab\"/></a>"
      ]
    },
    {
      "cell_type": "code",
      "metadata": {
        "id": "Pph2hcYtPIoZ"
      },
      "source": [
        "import pandas as pd\n",
        "\n",
        "def compute():\n",
        "  max_marks = 100 #Full Marks\n",
        "  name,sem,div,usn,maths,physics,chem,sum,percentage=[],[],[],[],[],[],[],[],[]\n",
        "  n = int(input(\"Enter the Number of Students you want to create Database for :\"))\n",
        "\n",
        "  for i in range(n):\n",
        "    name.append(input(\"Enter your Name : \"))\n",
        "    sem.append(input(\"Enter the semester of the student : \"))\n",
        "    div.append(input(\"Enter the Division of the student : \"))\n",
        "    usn.append(input(\"Enter the University Seat Number of student : \"))\n",
        "\n",
        "    while True:\n",
        "        score1 = float(input(\"Enter the marks scored in maths by the student : \"))\n",
        "        if score1 <= max_marks:\n",
        "          maths.append(score1)\n",
        "          break\n",
        "        else:\n",
        "          print(\"Scored marks can't be greater tha Maximum Marks\")\n",
        "\n",
        "    while True:\n",
        "        score2 = float(input(\"Enter the acquired scored in physics by the student : \"))\n",
        "        if score2 <= max_marks:\n",
        "          physics.append(score1)\n",
        "          break\n",
        "        else:\n",
        "          print(\"Scored marks can't be greater tha Maximum Marks\")\n",
        "\n",
        "    while True:\n",
        "        score3 = float(input(\"Enter the marks scored in chemistry by the student : \"))\n",
        "        if score3 <= max_marks:\n",
        "          chem.append(score3)\n",
        "          break\n",
        "        else:\n",
        "          print(\"Scored marks can't be greater tha Maximum Marks\")\n",
        "\n",
        "    sum.append(score1 + score2 + score3)\n",
        "\n",
        "  for i in sum:\n",
        "    percentage.append(round(i/3,2))\n",
        "\n",
        "  return  pd.DataFrame({'Name':name,\n",
        "                        'Sem':sem,\n",
        "                        'Division':div,\n",
        "                        'USN':usn,\n",
        "                        'Maths':maths,\n",
        "                        'Physics':physics,\n",
        "                        'Chemistry':chem,\n",
        "                        'Sum':sum,\n",
        "                        'Percentage':percentage},\n",
        "                       index=[i for i in range(1,n+1)])\n"
      ],
      "execution_count": 1,
      "outputs": []
    },
    {
      "cell_type": "code",
      "metadata": {
        "colab": {
          "base_uri": "https://localhost:8080/",
          "height": 366
        },
        "id": "pkwtdnk0Y8Od",
        "outputId": "635f12e2-9902-4368-e4ef-dce40ecf31f3"
      },
      "source": [
        "compute()"
      ],
      "execution_count": 2,
      "outputs": [
        {
          "output_type": "stream",
          "text": [
            "Enter the Number of Students you want to create Database for :2\n",
            "Enter your Name : Nitin\n",
            "Enter the semester of the student : 4th\n",
            "Enter the Division of the student : B\n",
            "Enter the University Seat Number of student : 088\n",
            "Enter the marks scored in maths by the student : 97\n",
            "Enter the acquired scored in physics by the student : 87\n",
            "Enter the marks scored in chemistry by the student : 88\n",
            "Enter your Name : Abrol\n",
            "Enter the semester of the student : 5th\n",
            "Enter the Division of the student : A\n",
            "Enter the University Seat Number of student : 72\n",
            "Enter the marks scored in maths by the student : 87\n",
            "Enter the acquired scored in physics by the student : 85\n",
            "Enter the marks scored in chemistry by the student : 76\n"
          ],
          "name": "stdout"
        },
        {
          "output_type": "execute_result",
          "data": {
            "text/html": [
              "<div>\n",
              "<style scoped>\n",
              "    .dataframe tbody tr th:only-of-type {\n",
              "        vertical-align: middle;\n",
              "    }\n",
              "\n",
              "    .dataframe tbody tr th {\n",
              "        vertical-align: top;\n",
              "    }\n",
              "\n",
              "    .dataframe thead th {\n",
              "        text-align: right;\n",
              "    }\n",
              "</style>\n",
              "<table border=\"1\" class=\"dataframe\">\n",
              "  <thead>\n",
              "    <tr style=\"text-align: right;\">\n",
              "      <th></th>\n",
              "      <th>Name</th>\n",
              "      <th>Sem</th>\n",
              "      <th>Division</th>\n",
              "      <th>USN</th>\n",
              "      <th>Maths</th>\n",
              "      <th>Physics</th>\n",
              "      <th>Chemistry</th>\n",
              "      <th>Sum</th>\n",
              "      <th>Percentage</th>\n",
              "    </tr>\n",
              "  </thead>\n",
              "  <tbody>\n",
              "    <tr>\n",
              "      <th>1</th>\n",
              "      <td>Nitin</td>\n",
              "      <td>4th</td>\n",
              "      <td>B</td>\n",
              "      <td>088</td>\n",
              "      <td>97.0</td>\n",
              "      <td>97.0</td>\n",
              "      <td>88.0</td>\n",
              "      <td>272.0</td>\n",
              "      <td>90.67</td>\n",
              "    </tr>\n",
              "    <tr>\n",
              "      <th>2</th>\n",
              "      <td>Abrol</td>\n",
              "      <td>5th</td>\n",
              "      <td>A</td>\n",
              "      <td>72</td>\n",
              "      <td>87.0</td>\n",
              "      <td>87.0</td>\n",
              "      <td>76.0</td>\n",
              "      <td>248.0</td>\n",
              "      <td>82.67</td>\n",
              "    </tr>\n",
              "  </tbody>\n",
              "</table>\n",
              "</div>"
            ],
            "text/plain": [
              "    Name  Sem Division  USN  Maths  Physics  Chemistry    Sum  Percentage\n",
              "1  Nitin  4th        B  088   97.0     97.0       88.0  272.0       90.67\n",
              "2  Abrol  5th        A   72   87.0     87.0       76.0  248.0       82.67"
            ]
          },
          "metadata": {
            "tags": []
          },
          "execution_count": 2
        }
      ]
    }
  ]
}