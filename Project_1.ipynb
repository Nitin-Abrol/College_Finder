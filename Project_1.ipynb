{
  "nbformat": 4,
  "nbformat_minor": 0,
  "metadata": {
    "colab": {
      "name": "Project_1.ipynb",
      "provenance": [],
      "authorship_tag": "ABX9TyOFqsM/bpoRavWO5/uQga00",
      "include_colab_link": true
    },
    "kernelspec": {
      "name": "python3",
      "display_name": "Python 3"
    },
    "language_info": {
      "name": "python"
    }
  },
  "cells": [
    {
      "cell_type": "markdown",
      "metadata": {
        "id": "view-in-github",
        "colab_type": "text"
      },
      "source": [
        "<a href=\"https://colab.research.google.com/github/Nitin-Abrol/College_Finder/blob/main/Project_1.ipynb\" target=\"_parent\"><img src=\"https://colab.research.google.com/assets/colab-badge.svg\" alt=\"Open In Colab\"/></a>"
      ]
    },
    {
      "cell_type": "code",
      "metadata": {
        "id": "Pph2hcYtPIoZ"
      },
      "source": [
        "import pandas as pd                                                                 \n",
        "\n",
        "def compute():                                                                     \n",
        "  max_marks = 100                                                                   \n",
        "  name,sem,div,usn,maths,physics,chem,sum,percentage=[],[],[],[],[],[],[],[],[]     \n",
        "  n = int(input(\"Enter the Number of Students you want to create Database for :\"))  \n",
        "\n",
        "  for i in range(n):                                                               \n",
        "    name.append(input(\"Enter your Name : \"))\n",
        "    sem.append(input(\"Enter the semester of the student : \"))\n",
        "    div.append(input(\"Enter the Division of the student : \"))\n",
        "    usn.append(input(\"Enter the University Seat Number of student : \"))\n",
        "\n",
        "    while True:\n",
        "        score1 = float(input(\"Enter the marks scored in maths by the student : \"))\n",
        "        if score1 <= max_marks:\n",
        "          maths.append(score1)\n",
        "          break\n",
        "        else:\n",
        "          print(\"Scored marks can't be greater than Maximum Marks\")\n",
        "\n",
        "    while True:\n",
        "        score2 = float(input(\"Enter the acquired scored in physics by the student : \"))\n",
        "        if score2 <= max_marks:\n",
        "          physics.append(score1)\n",
        "          break\n",
        "        else:\n",
        "          print(\"Scored marks can't be greater than Maximum Marks\")\n",
        "\n",
        "    while True:\n",
        "        score3 = float(input(\"Enter the marks scored in chemistry by the student : \"))\n",
        "        if score3 <= max_marks:\n",
        "          chem.append(score3)\n",
        "          break\n",
        "        else:\n",
        "          print(\"Scored marks can't be greater than Maximum Marks\")\n",
        "\n",
        "    sum.append(score1 + score2 + score3)\n",
        "\n",
        "  for i in sum:\n",
        "    percentage.append(round(i/3,2))\n",
        "\n",
        "  return  pd.DataFrame({'Name':name,\n",
        "                        'Sem':sem,\n",
        "                        'Division':div,\n",
        "                        'USN':usn,\n",
        "                        'Maths':maths,\n",
        "                        'Physics':physics,\n",
        "                        'Chemistry':chem,\n",
        "                        'Sum':sum,\n",
        "                        'Percentage':percentage},\n",
        "                       index=[i for i in range(1,n+1)])\n",
        "\n",
        "\n",
        "compute()"
      ],
      "execution_count": 1,
      "outputs": []
    },
    {
      "cell_type": "code",
      "metadata": {
        "id": "fidkwM4rdXwv"
      },
      "source": [
        ""
      ],
      "execution_count": null,
      "outputs": []
    }
  ]
}