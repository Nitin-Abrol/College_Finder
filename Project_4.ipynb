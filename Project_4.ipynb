{
  "nbformat": 4,
  "nbformat_minor": 0,
  "metadata": {
    "colab": {
      "name": "Project_4.ipynb",
      "provenance": [],
      "authorship_tag": "ABX9TyPWyr0yX2lq6w+ilB/OB+8T",
      "include_colab_link": true
    },
    "kernelspec": {
      "name": "python3",
      "display_name": "Python 3"
    },
    "language_info": {
      "name": "python"
    }
  },
  "cells": [
    {
      "cell_type": "markdown",
      "metadata": {
        "id": "view-in-github",
        "colab_type": "text"
      },
      "source": [
        "<a href=\"https://colab.research.google.com/github/Nitin-Abrol/College_Finder/blob/main/Project_4.ipynb\" target=\"_parent\"><img src=\"https://colab.research.google.com/assets/colab-badge.svg\" alt=\"Open In Colab\"/></a>"
      ]
    },
    {
      "cell_type": "markdown",
      "metadata": {
        "id": "Hi3JpJ7xJs4b"
      },
      "source": [
        "# Real Calculator"
      ]
    },
    {
      "cell_type": "code",
      "metadata": {
        "colab": {
          "base_uri": "https://localhost:8080/"
        },
        "id": "2CnD0suOJHUl",
        "outputId": "0b45d2cd-a639-4135-a3aa-9337e9c73514"
      },
      "source": [
        "def add(a,b):\n",
        "    addition = a+b\n",
        "    print(f\"The sum of {a} and {b} is {addition}\") \n",
        "\n",
        "def subtract(a,b):\n",
        "    subtracted = a-b\n",
        "    print(f\"The result of subtracting {b} from {a} is {subtracted}\")\n",
        "\n",
        "def multiply(a,b):\n",
        "    multiplied = a*b\n",
        "    print(f\"The multiplication of {a} and {b} is {multiplied}\")\n",
        "\n",
        "def division(a,b):\n",
        "    div = a/b\n",
        "    print(f\"The sum of {a} and {b} is {div}\")\n",
        "\n",
        "def modulus(a,b):\n",
        "    mod = a%b\n",
        "    print(f\"The remainder of {a} when divided by {b} is {mod}\")\n",
        "\n",
        "number1,operator,number2 = map(str, input(\"Enter your equation: \").split()) \n",
        "number1 = int(number1)\n",
        "number2 = int(number2)\n",
        "\n",
        "if operator == \"+\":\n",
        "    add(number1,number2)\n",
        "    \n",
        "elif operator == \"-\":\n",
        "    subtract(number1,number2)\n",
        "    \n",
        "elif operator == \"*\":\n",
        "    multiply(number1,number2)\n",
        "    \n",
        "elif operator == \"/\":\n",
        "    division(number1,number2)\n",
        "\n",
        "elif operator == \"%\":\n",
        "    modulus(number1,number2)\n",
        "    \n",
        "else:\n",
        "    print(\"Invalid Typo Error! Type something like - 8 / 4\")"
      ],
      "execution_count": 1,
      "outputs": [
        {
          "output_type": "stream",
          "text": [
            "Enter your equation: 10 % 4\n",
            "The remainder of 10 when divided by 4 is 2\n"
          ],
          "name": "stdout"
        }
      ]
    },
    {
      "cell_type": "code",
      "metadata": {
        "id": "NuA-RnD8Jbay"
      },
      "source": [
        ""
      ],
      "execution_count": null,
      "outputs": []
    }
  ]
}