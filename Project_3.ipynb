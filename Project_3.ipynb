{
  "nbformat": 4,
  "nbformat_minor": 0,
  "metadata": {
    "colab": {
      "name": "Project_3.ipynb",
      "provenance": [],
      "authorship_tag": "ABX9TyOM1tvX6BtQHEIwmbsrQLBU",
      "include_colab_link": true
    },
    "kernelspec": {
      "name": "python3",
      "display_name": "Python 3"
    },
    "language_info": {
      "name": "python"
    }
  },
  "cells": [
    {
      "cell_type": "markdown",
      "metadata": {
        "id": "view-in-github",
        "colab_type": "text"
      },
      "source": [
        "<a href=\"https://colab.research.google.com/github/Nitin-Abrol/College_Finder/blob/main/Project_3.ipynb\" target=\"_parent\"><img src=\"https://colab.research.google.com/assets/colab-badge.svg\" alt=\"Open In Colab\"/></a>"
      ]
    },
    {
      "cell_type": "markdown",
      "metadata": {
        "id": "RIim8LjGa8qn"
      },
      "source": [
        "# Project 3.0 \n",
        "## **Multiplication Table**"
      ]
    },
    {
      "cell_type": "code",
      "metadata": {
        "colab": {
          "base_uri": "https://localhost:8080/"
        },
        "id": "-ZtSJ6r5a6kO",
        "outputId": "6f5eeb94-f470-4b7e-8dbe-083b8621ca5c"
      },
      "source": [
        "num = int(input(\"Enter the number whose multiplication table you want to find: \"))\n",
        "print(\"*\"*20)\n",
        "i = 0\n",
        "\n",
        "while i<12:\n",
        "  i +=1\n",
        "  print(f\"{num} x {i} = \", num*i)\n",
        "\n",
        "print(\"*\"*20)"
      ],
      "execution_count": 1,
      "outputs": [
        {
          "output_type": "stream",
          "text": [
            "Enter the number whose multiplication table you want to find: 17\n",
            "********************\n",
            "17 x 1 =  17\n",
            "17 x 2 =  34\n",
            "17 x 3 =  51\n",
            "17 x 4 =  68\n",
            "17 x 5 =  85\n",
            "17 x 6 =  102\n",
            "17 x 7 =  119\n",
            "17 x 8 =  136\n",
            "17 x 9 =  153\n",
            "17 x 10 =  170\n",
            "17 x 11 =  187\n",
            "17 x 12 =  204\n",
            "********************\n"
          ],
          "name": "stdout"
        }
      ]
    },
    {
      "cell_type": "code",
      "metadata": {
        "id": "kLa5NuF9brd9"
      },
      "source": [
        ""
      ],
      "execution_count": 1,
      "outputs": []
    }
  ]
}