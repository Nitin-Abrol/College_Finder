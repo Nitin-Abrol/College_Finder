{
  "nbformat": 4,
  "nbformat_minor": 0,
  "metadata": {
    "colab": {
      "name": "Project_3.ipynb",
      "provenance": [],
      "authorship_tag": "ABX9TyPOZCvC4JYukqd3PwDW62x4"
    },
    "kernelspec": {
      "name": "python3",
      "display_name": "Python 3"
    },
    "language_info": {
      "name": "python"
    }
  },
  "cells": [
    {
      "cell_type": "markdown",
      "metadata": {
        "id": "RIim8LjGa8qn"
      },
      "source": [
        "# Project 3.0 \n",
        "## **Multiplication Table**"
      ]
    },
    {
      "cell_type": "code",
      "metadata": {
        "colab": {
          "base_uri": "https://localhost:8080/"
        },
        "id": "-ZtSJ6r5a6kO",
        "outputId": "cbe00bdd-927e-4c36-9b60-cb5cdcecfb31"
      },
      "source": [
        "num = int(input(\"Enter the number whose multiplication table you want to find: \"))\n",
        "print(\"*\"*20)\n",
        "i = 0\n",
        "\n",
        "while i<13:\n",
        "  i +=1\n",
        "  print(f\"{num} x {i} = \", num*i)\n",
        "\n",
        "print(\"*\"*20)"
      ],
      "execution_count": 10,
      "outputs": [
        {
          "output_type": "stream",
          "text": [
            "Enter the number whose multiplication table you want to find: 16\n",
            "********************\n",
            "16 x 1 =  16\n",
            "16 x 2 =  32\n",
            "16 x 3 =  48\n",
            "16 x 4 =  64\n",
            "16 x 5 =  80\n",
            "16 x 6 =  96\n",
            "16 x 7 =  112\n",
            "16 x 8 =  128\n",
            "16 x 9 =  144\n",
            "16 x 10 =  160\n",
            "16 x 11 =  176\n",
            "16 x 12 =  192\n",
            "16 x 13 =  208\n",
            "********************\n"
          ],
          "name": "stdout"
        }
      ]
    },
    {
      "cell_type": "code",
      "metadata": {
        "id": "kLa5NuF9brd9"
      },
      "source": [
        ""
      ],
      "execution_count": null,
      "outputs": []
    }
  ]
}