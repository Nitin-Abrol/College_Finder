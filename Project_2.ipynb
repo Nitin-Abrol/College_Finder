{
  "nbformat": 4,
  "nbformat_minor": 0,
  "metadata": {
    "colab": {
      "name": "Project_2.ipynb",
      "provenance": [],
      "authorship_tag": "ABX9TyO3izCLFvvjtx82iqnfrFZ6",
      "include_colab_link": true
    },
    "kernelspec": {
      "name": "python3",
      "display_name": "Python 3"
    },
    "language_info": {
      "name": "python"
    }
  },
  "cells": [
    {
      "cell_type": "markdown",
      "metadata": {
        "id": "view-in-github",
        "colab_type": "text"
      },
      "source": [
        "<a href=\"https://colab.research.google.com/github/Nitin-Abrol/College_Finder/blob/main/Project_2.ipynb\" target=\"_parent\"><img src=\"https://colab.research.google.com/assets/colab-badge.svg\" alt=\"Open In Colab\"/></a>"
      ]
    },
    {
      "cell_type": "markdown",
      "metadata": {
        "id": "GKDSMFfMEbbN"
      },
      "source": [
        "# Rock, Paper & Scissors Game\n"
      ]
    },
    {
      "cell_type": "code",
      "metadata": {
        "colab": {
          "base_uri": "https://localhost:8080/"
        },
        "id": "apGG0BFjE798",
        "outputId": "697a1197-bf60-45ca-b446-6833e4a4ae0e"
      },
      "source": [
        "from random import randint \n",
        "\n",
        "moves = ['ROCK','PAPER','SCISSOR']\n",
        "print(\"----Starting the Game----\")\n",
        "c,p = 0,0\n",
        "\n",
        "while True:\n",
        "\n",
        "  computer = moves[randint(0,2)]\n",
        "  player = input(\"Rock, Paper or Scissor? (Or end the game?)\").upper()\n",
        "\n",
        "  print(f\"Player's inputs is {player}\")\n",
        "\n",
        "  if player == 'END THE GAME' or player == 'END':\n",
        "    print(\"Game Ended.\")\n",
        "    break;\n",
        "\n",
        "  print(f\"Computer's input is {computer}\")\n",
        "\n",
        "  if player == computer:\n",
        "    print(\"Tie!\")\n",
        "  elif player == 'ROCK':\n",
        "    if computer == 'PAPER':\n",
        "      print(f\"Ahh, You Lost this round! COMPUTER beats PLAYER\")\n",
        "      c = c+1\n",
        "    else:\n",
        "      print(f\"Yay! You Won this round. PLAYER beats COMPUTER\")\n",
        "      p = p+1\n",
        "  elif player == 'PAPER':\n",
        "    if computer == 'SCISSOR':\n",
        "       print(f\"Ahh, You Lost this round! COMPUTER beats PLAYER\")\n",
        "       c = c+1\n",
        "    else:\n",
        "      print(f\"Yay! You Won this round. PLAYER beats COMPUTER\")\n",
        "      p = p+1\n",
        "  elif player == 'SCISSOR':\n",
        "    if computer == 'ROCK':\n",
        "       print(f\"Ahh, You Lost this round! COMPUTER beats PLAYER\")\n",
        "       c = c+1\n",
        "    else:\n",
        "      print(f\"Yay! You Won this round. PLAYER beats COMPUTER\")\n",
        "      p = p+1\n",
        "  else:\n",
        "    print(\"Check you Spelling....\")\n",
        "\n",
        "if p > c:\n",
        "  final = \"WUUHUUU...Player WON!!\"\n",
        "elif p == c:\n",
        "  final = \"Well, That's a Tie!\"\n",
        "else:\n",
        "  final = \"Better Luck Next Time.\"\n",
        "\n",
        "print('\\n-------FINAL SCORE-------\\n')\n",
        "print(\"------------------------\")\n",
        "print('|COMPUTER \\t PLAYER|')\n",
        "print(\"|\" + str(c) + \"\\t\\t \" + str(p) + \"     |\" )\n",
        "print(\"------------------------\")\n",
        "\n",
        "print(\"\\n\"+final)\n"
      ],
      "execution_count": 32,
      "outputs": [
        {
          "output_type": "stream",
          "text": [
            "----Starting the Game----\n",
            "Rock, Paper or Scissor? (Or end the game?)Rock\n",
            "Player's inputs is ROCK\n",
            "Computer's input is ROCK\n",
            "Tie!\n",
            "Rock, Paper or Scissor? (Or end the game?)Paper\n",
            "Player's inputs is PAPER\n",
            "Computer's input is PAPER\n",
            "Tie!\n",
            "Rock, Paper or Scissor? (Or end the game?)Scissor\n",
            "Player's inputs is SCISSOR\n",
            "Computer's input is PAPER\n",
            "Yay! You Won this round. PLAYER beats COMPUTER\n",
            "Rock, Paper or Scissor? (Or end the game?)Rock\n",
            "Player's inputs is ROCK\n",
            "Computer's input is ROCK\n",
            "Tie!\n",
            "Rock, Paper or Scissor? (Or end the game?)Paper\n",
            "Player's inputs is PAPER\n",
            "Computer's input is SCISSOR\n",
            "Ahh, You Lost this round! COMPUTER beats PLAYER\n",
            "Rock, Paper or Scissor? (Or end the game?)Scissor\n",
            "Player's inputs is SCISSOR\n",
            "Computer's input is SCISSOR\n",
            "Tie!\n",
            "Rock, Paper or Scissor? (Or end the game?)End\n",
            "Player's inputs is END\n",
            "Game Ended.\n",
            "\n",
            "-------FINAL SCORE-------\n",
            "\n",
            "------------------------\n",
            "|COMPUTER \t PLAYER|\n",
            "|1\t\t 1     |\n",
            "------------------------\n",
            "\n",
            "Well, That's a Tie!\n"
          ],
          "name": "stdout"
        }
      ]
    },
    {
      "cell_type": "code",
      "metadata": {
        "id": "wz336ICsGvPz"
      },
      "source": [
        ""
      ],
      "execution_count": null,
      "outputs": []
    }
  ]
}